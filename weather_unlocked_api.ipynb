{
 "cells": [
  {
   "cell_type": "code",
   "execution_count": 3,
   "id": "ad1d254a-b2d7-4848-808a-32102749d346",
   "metadata": {},
   "outputs": [],
   "source": [
    "# import reqs\n",
    "import requests"
   ]
  },
  {
   "cell_type": "code",
   "execution_count": 16,
   "id": "0d13b231-9cd6-42f4-9865-26e233d02e9e",
   "metadata": {},
   "outputs": [
    {
     "name": "stdout",
     "output_type": "stream",
     "text": [
      "Error: 400\n",
      "{\"title\":\"No snow report available\",\"Description\":\"No snow report available for this resort\",\"InternalCode\":\"\",\"HelpUrl\":\"https://developer.weatherunlocked.com/documentation/skiresort/resources#resorts-list\"}\n"
     ]
    }
   ],
   "source": [
    "import requests\n",
    "\n",
    "id_file = 'auth/app_id.txt'\n",
    "key_file = 'auth/api_key.txt'\n",
    "resort_id = '801001'\n",
    "\n",
    "# Use the with statement to ensure the file is properly closed after reading\n",
    "with open(id_file, 'r') as file:\n",
    "    app_id = file.readline().strip()\n",
    "\n",
    "with open(key_file, 'r') as file:\n",
    "    app_key = file.readline().strip()\n",
    "\n",
    "# Replace these with your actual APP_ID and APP_KEY\n",
    "APP_ID = app_id\n",
    "APP_KEY = app_key\n",
    "RESORT_ID = resort_id\n",
    "\n",
    "# The API endpoint with placeholders filled in\n",
    "url = f\"https://api.weatherunlocked.com/api/snowreport/{RESORT_ID}?app_id={APP_ID}&app_key={APP_KEY}\"\n",
    "\n",
    "# Make the GET request\n",
    "response = requests.get(url)\n",
    "\n",
    "# Check if the request was successful\n",
    "response = requests.get(url)\n",
    "if response.status_code != 200:\n",
    "    print(f\"Error: {response.status_code}\")\n",
    "    print(response.text)  # This might contain detailed error messages or hints\n",
    "\n",
    "else:\n",
    "    print(f\"Error: {response.status_code}\")\n"
   ]
  },
  {
   "cell_type": "code",
   "execution_count": null,
   "id": "95a46a28-a1fd-494c-8ae7-5f71dd2aae76",
   "metadata": {},
   "outputs": [],
   "source": []
  }
 ],
 "metadata": {
  "kernelspec": {
   "display_name": "Python 3 (ipykernel)",
   "language": "python",
   "name": "python3"
  },
  "language_info": {
   "codemirror_mode": {
    "name": "ipython",
    "version": 3
   },
   "file_extension": ".py",
   "mimetype": "text/x-python",
   "name": "python",
   "nbconvert_exporter": "python",
   "pygments_lexer": "ipython3",
   "version": "3.11.7"
  }
 },
 "nbformat": 4,
 "nbformat_minor": 5
}
